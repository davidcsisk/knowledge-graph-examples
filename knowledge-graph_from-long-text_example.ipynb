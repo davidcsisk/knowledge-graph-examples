{
 "cells": [
  {
   "cell_type": "code",
   "execution_count": null,
   "metadata": {},
   "outputs": [],
   "source": [
    "#!pip install py2neo\n",
    "#!pip install sentence-transformers\n",
    "#!pip install neo4j"
   ]
  },
  {
   "cell_type": "code",
   "execution_count": 2,
   "metadata": {},
   "outputs": [
    {
     "name": "stderr",
     "output_type": "stream",
     "text": [
      "c:\\Users\\Dave Sisk\\AppData\\Local\\Programs\\Python\\Python311\\Lib\\site-packages\\sentence_transformers\\cross_encoder\\CrossEncoder.py:11: TqdmWarning: IProgress not found. Please update jupyter and ipywidgets. See https://ipywidgets.readthedocs.io/en/stable/user_install.html\n",
      "  from tqdm.autonotebook import tqdm, trange\n"
     ]
    }
   ],
   "source": [
    "# Import the necessary libraries\n",
    "import os\n",
    "from neo4j import GraphDatabase\n",
    "from sentence_transformers import SentenceTransformer, util"
   ]
  },
  {
   "cell_type": "code",
   "execution_count": 3,
   "metadata": {},
   "outputs": [],
   "source": [
    "# Get connection parameters from environment variables\n",
    "\n",
    "uri = os.getenv('NEO4J_URI', 'neo4j://b92ae674.databases.neo4j.io')\n",
    "user = os.getenv('NEO4J_USER', 'neo4j')\n",
    "password = os.getenv('NEO4J_PASSWORD', 'password')"
   ]
  },
  {
   "cell_type": "code",
   "execution_count": 3,
   "metadata": {},
   "outputs": [],
   "source": [
    "# Clear the Neo4j database beforehand if needed\n",
    "def clear_db(uri, user, password):\n",
    "    driver = GraphDatabase.driver(uri, auth=(user, password))\n",
    "    with driver.session() as session:\n",
    "        session.run(\"MATCH (n) DETACH DELETE n\")"
   ]
  },
  {
   "cell_type": "code",
   "execution_count": null,
   "metadata": {},
   "outputs": [],
   "source": [
    "# Function to create nodes and relationships in Neo4j\n",
    "def create_knowledge_graph(uri, user, password, nodes, edges):\n",
    "    driver = GraphDatabase.driver(uri, auth=(user, password))\n",
    "    \n",
    "    def add_node(tx, label, name):\n",
    "        tx.run(\"MERGE (a:\" + label + \" {name: $name})\", name=name)\n",
    "    \n",
    "    def add_relationship(tx, label1, name1, label2, name2, relationship):\n",
    "        tx.run(\"MATCH (a:\" + label1 + \" {name: $name1}), (b:\" + label2 + \" {name: $name2}) \"\n",
    "               \"MERGE (a)-[r:\" + relationship + \"]->(b)\",\n",
    "               name1=name1, name2=name2)\n",
    "    \n",
    "    with driver.session() as session:\n",
    "        for node in nodes:\n",
    "            session.execute_write(add_node, \"Node\", node)\n",
    "        for edge in edges:\n",
    "            session.execute_write(add_relationship, \"Node\", edge[0], \"Node\", edge[1], \"RELATED_TO\")\n",
    "    \n",
    "    driver.close()\n",
    "\n",
    "# Function to extract nodes and edges from text using sentence-transformers\n",
    "def extract_nodes_edges(text):\n",
    "    model = SentenceTransformer('sentence-transformers/all-MiniLM-L6-v2')\n",
    "    #model = SentenceTransformer('sentence-transformers/all-mpnet-base-v2')\n",
    "    #model = SentenceTransformer('sentence-transformers/paraphrase-mpnet-base-v2')\n",
    "    sentences = text.split('.')\n",
    "    embeddings = model.encode(sentences, convert_to_tensor=True)\n",
    "    \n",
    "    # Use cosine similarity to find related sentences\n",
    "    cosine_scores = util.pytorch_cos_sim(embeddings, embeddings)\n",
    "    \n",
    "    nodes = set()\n",
    "    edges = set()\n",
    "    \n",
    "    similarity_threshold = 0.9  # Higher = fewer but precise relationships, lower = more but less precise relationships\n",
    "\n",
    "    for i in range(len(sentences)):\n",
    "        nodes.add(sentences[i].strip())\n",
    "        for j in range(i+1, len(sentences)):\n",
    "            if cosine_scores[i][j] > similarity_threshold:  # Threshold for similarity\n",
    "                edges.add((sentences[i].strip(), sentences[j].strip()))\n",
    "    \n",
    "    return list(nodes), list(edges)\n"
   ]
  },
  {
   "cell_type": "code",
   "execution_count": 5,
   "metadata": {},
   "outputs": [
    {
     "name": "stderr",
     "output_type": "stream",
     "text": [
      "c:\\Users\\Dave Sisk\\AppData\\Local\\Programs\\Python\\Python311\\Lib\\site-packages\\transformers\\tokenization_utils_base.py:1601: FutureWarning: `clean_up_tokenization_spaces` was not set. It will be set to `True` by default. This behavior will be depracted in transformers v4.45, and will be then set to `False` by default. For more details check this issue: https://github.com/huggingface/transformers/issues/31884\n",
      "  warnings.warn(\n"
     ]
    }
   ],
   "source": [
    "# Process the text document\n",
    "filename = 'US-Constitution-With-Amendments.txt'\n",
    "\n",
    "# Read the full text data\n",
    "with open(filename, \"r\") as file:\n",
    "    text = file.read()\n",
    "\n",
    "# Extract nodes and edges from the text\n",
    "nodes, edges = extract_nodes_edges(text)\n",
    "\n",
    "# NOTE: This ran for 72 mins on Windows 10, around 48 mins on Linux Mint 22\n",
    "# Create the knowledge graph\n",
    "create_knowledge_graph(uri, user, password, nodes, edges)"
   ]
  },
  {
   "cell_type": "code",
   "execution_count": 5,
   "metadata": {},
   "outputs": [],
   "source": [
    "# Helper function to run a query and return the results\n",
    "def run_query(uri, user, password, query):\n",
    "    driver = GraphDatabase.driver(uri, auth=(user, password))\n",
    "    results = []\n",
    "    \n",
    "    with driver.session() as session:\n",
    "        result = session.run(query)\n",
    "        for record in result:\n",
    "            results.append(record)\n",
    "    \n",
    "    driver.close()\n",
    "    return results\n",
    "\n",
    "# Get connection parameters from environment variables\n",
    "uri = os.getenv('NEO4J_URI', 'neo4j://b92ae674.databases.neo4j.io')\n",
    "user = os.getenv('NEO4J_USER', 'neo4j')\n",
    "password = os.getenv('NEO4J_PASSWORD', 'password')\n"
   ]
  },
  {
   "cell_type": "markdown",
   "metadata": {},
   "source": [
    "Example Neo4j Queries against this data..."
   ]
  },
  {
   "cell_type": "code",
   "execution_count": 7,
   "metadata": {},
   "outputs": [
    {
     "data": {
      "text/plain": [
       "[<Record n=<Node element_id='4:5c070880-17d8-45a9-a1fa-df478e8a6ff0:0' labels=frozenset({'Node'}) properties={'name': ''}>>,\n",
       " <Record n=<Node element_id='4:5c070880-17d8-45a9-a1fa-df478e8a6ff0:1' labels=frozenset({'Node'}) properties={'name': 'A well-regulated militia being                  2'}>>,\n",
       " <Record n=<Node element_id='4:5c070880-17d8-45a9-a1fa-df478e8a6ff0:2' labels=frozenset({'Node'}) properties={'name': 'from the persons having the highest\\n     numbers, not exceeding three, on the\\n     list of those voted for as President,\\n     the House of Representatives shall\\n     choose immediately, by ballot, the\\n     President'}>>,\n",
       " <Record n=<Node element_id='4:5c070880-17d8-45a9-a1fa-df478e8a6ff0:3' labels=frozenset({'Node'}) properties={'name': 'No State shall lay\\n     any'}>>,\n",
       " <Record n=<Node element_id='4:5c070880-17d8-45a9-a1fa-df478e8a6ff0:4' labels=frozenset({'Node'}) properties={'name': 'or Representative in Congress, or\\n presidential elector, or hold any office,\\n civil or military, under the United\\n States, or any State, who having\\n previously taken an oath as a\\n legislative, executive, or judicial\\n officer of the United States, or of any\\n State, to support the Constitution,\\n afterward engaged in insurrection or\\n rebellion against the United States'}>>,\n",
       " <Record n=<Node element_id='4:5c070880-17d8-45a9-a1fa-df478e8a6ff0:5' labels=frozenset({'Node'}) properties={'name': 'republican form of government to\\n     every State in the Union'}>>,\n",
       " <Record n=<Node element_id='4:5c070880-17d8-45a9-a1fa-df478e8a6ff0:6' labels=frozenset({'Node'}) properties={'name': 'Suffrage in the Senate'}>>,\n",
       " <Record n=<Node element_id='4:5c070880-17d8-45a9-a1fa-df478e8a6ff0:7' labels=frozenset({'Node'}) properties={'name': '---------------------------------------------------------------------------\\n                                   * * * * *                              \\n\\\\12\\\\The first ten amendments of the Constitution of the United States \\n(and two others, one of which failed of ratification and the other \\nwhich later became the 27th amendment) were proposed to the \\nlegislatures of the several States by the First Congress on September \\n25, 1789'}>>,\n",
       " <Record n=<Node element_id='4:5c070880-17d8-45a9-a1fa-df478e8a6ff0:8' labels=frozenset({'Node'}) properties={'name': 'Compensation of the President shall not be          2          1       7\\n increased nor diminished during the\\n period for which he shall be elected'}>>,\n",
       " <Record n=<Node element_id='4:5c070880-17d8-45a9-a1fa-df478e8a6ff0:9' labels=frozenset({'Node'}) properties={'name': 'Article IV'}>>]"
      ]
     },
     "execution_count": 7,
     "metadata": {},
     "output_type": "execute_result"
    }
   ],
   "source": [
    "# Query 1: Get all nodes\n",
    "query = \"MATCH (n) RETURN n LIMIT 10\"\n",
    "nodes = run_query(uri, user, password, query)\n",
    "nodes"
   ]
  },
  {
   "cell_type": "code",
   "execution_count": 8,
   "metadata": {},
   "outputs": [
    {
     "data": {
      "text/plain": [
       "[<Record r=<Relationship element_id='5:5c070880-17d8-45a9-a1fa-df478e8a6ff0:1152921504606846976' nodes=(<Node element_id='4:5c070880-17d8-45a9-a1fa-df478e8a6ff0:0' labels=frozenset() properties={}>, <Node element_id='4:5c070880-17d8-45a9-a1fa-df478e8a6ff0:0' labels=frozenset() properties={}>) type='RELATED_TO' properties={}>>,\n",
       " <Record r=<Relationship element_id='5:5c070880-17d8-45a9-a1fa-df478e8a6ff0:1152921504606846979' nodes=(<Node element_id='4:5c070880-17d8-45a9-a1fa-df478e8a6ff0:3' labels=frozenset() properties={}>, <Node element_id='4:5c070880-17d8-45a9-a1fa-df478e8a6ff0:52' labels=frozenset() properties={}>) type='RELATED_TO' properties={}>>,\n",
       " <Record r=<Relationship element_id='5:5c070880-17d8-45a9-a1fa-df478e8a6ff0:1152921504606846985' nodes=(<Node element_id='4:5c070880-17d8-45a9-a1fa-df478e8a6ff0:9' labels=frozenset() properties={}>, <Node element_id='4:5c070880-17d8-45a9-a1fa-df478e8a6ff0:422' labels=frozenset() properties={}>) type='RELATED_TO' properties={}>>,\n",
       " <Record r=<Relationship element_id='5:5c070880-17d8-45a9-a1fa-df478e8a6ff0:1152921504606846991' nodes=(<Node element_id='4:5c070880-17d8-45a9-a1fa-df478e8a6ff0:15' labels=frozenset() properties={}>, <Node element_id='4:5c070880-17d8-45a9-a1fa-df478e8a6ff0:680' labels=frozenset() properties={}>) type='RELATED_TO' properties={}>>,\n",
       " <Record r=<Relationship element_id='5:5c070880-17d8-45a9-a1fa-df478e8a6ff0:1152921504606846996' nodes=(<Node element_id='4:5c070880-17d8-45a9-a1fa-df478e8a6ff0:20' labels=frozenset() properties={}>, <Node element_id='4:5c070880-17d8-45a9-a1fa-df478e8a6ff0:1060' labels=frozenset() properties={}>) type='RELATED_TO' properties={}>>,\n",
       " <Record r=<Relationship element_id='5:5c070880-17d8-45a9-a1fa-df478e8a6ff0:1152921504606846997' nodes=(<Node element_id='4:5c070880-17d8-45a9-a1fa-df478e8a6ff0:21' labels=frozenset() properties={}>, <Node element_id='4:5c070880-17d8-45a9-a1fa-df478e8a6ff0:1396' labels=frozenset() properties={}>) type='RELATED_TO' properties={}>>,\n",
       " <Record r=<Relationship element_id='5:5c070880-17d8-45a9-a1fa-df478e8a6ff0:1152921504606847004' nodes=(<Node element_id='4:5c070880-17d8-45a9-a1fa-df478e8a6ff0:28' labels=frozenset() properties={}>, <Node element_id='4:5c070880-17d8-45a9-a1fa-df478e8a6ff0:248' labels=frozenset() properties={}>) type='RELATED_TO' properties={}>>,\n",
       " <Record r=<Relationship element_id='5:5c070880-17d8-45a9-a1fa-df478e8a6ff0:1152921504606847011' nodes=(<Node element_id='4:5c070880-17d8-45a9-a1fa-df478e8a6ff0:35' labels=frozenset() properties={}>, <Node element_id='4:5c070880-17d8-45a9-a1fa-df478e8a6ff0:418' labels=frozenset() properties={}>) type='RELATED_TO' properties={}>>,\n",
       " <Record r=<Relationship element_id='5:5c070880-17d8-45a9-a1fa-df478e8a6ff0:1157425104234217507' nodes=(<Node element_id='4:5c070880-17d8-45a9-a1fa-df478e8a6ff0:35' labels=frozenset() properties={}>, <Node element_id='4:5c070880-17d8-45a9-a1fa-df478e8a6ff0:834' labels=frozenset() properties={}>) type='RELATED_TO' properties={}>>,\n",
       " <Record r=<Relationship element_id='5:5c070880-17d8-45a9-a1fa-df478e8a6ff0:1155173304420532259' nodes=(<Node element_id='4:5c070880-17d8-45a9-a1fa-df478e8a6ff0:35' labels=frozenset() properties={}>, <Node element_id='4:5c070880-17d8-45a9-a1fa-df478e8a6ff0:1887' labels=frozenset() properties={}>) type='RELATED_TO' properties={}>>]"
      ]
     },
     "execution_count": 8,
     "metadata": {},
     "output_type": "execute_result"
    }
   ],
   "source": [
    "# Query 2: Get all relationships\n",
    "query = \"MATCH ()-[r]->() RETURN r LIMIT 10\"\n",
    "relationships = run_query(uri, user, password, query)\n",
    "relationships"
   ]
  },
  {
   "cell_type": "code",
   "execution_count": 10,
   "metadata": {},
   "outputs": [
    {
     "name": "stdout",
     "output_type": "stream",
     "text": [
      "Nodes related to 'Article 1': []\n"
     ]
    }
   ],
   "source": [
    "# Query 3: Find nodes related to a specific node\n",
    "specific_node = \"Article 1\"\n",
    "query = f\"MATCH (n)-[r:RELATED_TO]->(m) WHERE n.name = '{specific_node}' RETURN n, r, m\"\n",
    "related_nodes = run_query(uri, user, password, query)\n",
    "print(f\"Nodes related to '{specific_node}':\", related_nodes)"
   ]
  },
  {
   "cell_type": "code",
   "execution_count": 11,
   "metadata": {},
   "outputs": [
    {
     "name": "stdout",
     "output_type": "stream",
     "text": [
      "Number of nodes: [<Record node_count=2368>]\n"
     ]
    }
   ],
   "source": [
    "# Query 4: Count the number of nodes\n",
    "query = \"MATCH (n) RETURN count(n) as node_count\"\n",
    "node_count = run_query(uri, user, password, query)\n",
    "print(\"Number of nodes:\", node_count)"
   ]
  },
  {
   "cell_type": "code",
   "execution_count": 12,
   "metadata": {},
   "outputs": [
    {
     "name": "stdout",
     "output_type": "stream",
     "text": [
      "Number of relationships: [<Record relationship_count=743>]\n"
     ]
    }
   ],
   "source": [
    "# Query 5: Count the number of relationships\n",
    "query = \"MATCH ()-[r]->() RETURN count(r) as relationship_count\"\n",
    "relationship_count = run_query(uri, user, password, query)\n",
    "print(\"Number of relationships:\", relationship_count)"
   ]
  },
  {
   "cell_type": "code",
   "execution_count": 6,
   "metadata": {},
   "outputs": [
    {
     "name": "stdout",
     "output_type": "stream",
     "text": [
      "Top 10 most frequent nodes with a common relationship: [<Record node='Article [XX' relationships=7>, <Record node='The \\ndates of ratification were: Massachusetts, May 22, 1912; Arizona, June \\n3, 1912; Minnesota, June 10, 1912; New York, January 15, 1913; Kansas, \\nJanuary 17, 1913; Oregon, January 23, 1913; North Carolina, January 25, \\n1913; California, January 28, 1913; Michigan, January 28, 1913; Iowa, \\nJanuary 30, 1913; Montana, January 30, 1913; Idaho, January 31, 1913; \\nWest Virginia, February 4, 1913; Colorado, February 5, 1913; Nevada, \\nFebruary 6, 1913; Texas, February 7, 1913; Washington, February 7, \\n1913; Wyoming, February 8, 1913; Arkansas, February 11, 1913; Maine, \\nFebruary 11, 1913; Illinois, February 13, 1913; North Dakota, February \\n14, 1913; Wisconsin, February 18, 1913; Indiana, February 19, 1913; New \\nHampshire, February 19, 1913; Vermont, February 19, 1913; South Dakota, \\nFebruary 19, 1913; Oklahoma, February 24, 1913; Ohio, February 25, \\n1913; Missouri, March 7, 1913; New Mexico, March 13, 1913; Nebraska, \\nMarch 14, 1913; New Jersey, March 17, 1913; Tennessee, April 1, 1913; \\nPennsylvania, April 2, 1913; Connecticut, April 8, 1913' relationships=6>, <Record node='The dates of \\nratification were: Alabama, August 10, 1909; Kentucky, February 8, \\n1910; South Carolina, February 19, 1910; Illinois, March 1, 1910; \\nMississippi, March 7, 1910; Oklahoma, March 10, 1910; Maryland, April \\n8, 1910; Georgia, August 3, 1910; Texas, August 16, 1910; Ohio, January \\n19, 1911; Idaho, January 20, 1911; Oregon, January 23, 1911; \\nWashington, January 26, 1911; Montana, January 30, 1911; Indiana, \\nJanuary 30, 1911; California, January 31, 1911; Nevada, January 31, \\n1911; South Dakota, February 3, 1911; Nebraska, February 9, 1911; North \\nCarolina, February 11, 1911; Colorado, February 15, 1911; North Dakota, \\nFebruary 17, 1911; Kansas, February 18, 1911; Michigan, February 23, \\n1911; Iowa, February 24, 1911; Missouri, March 16, 1911; Maine, March \\n31, 1911; Tennessee, April 7, 1911; Arkansas, April 22, 1911 (after \\nhaving rejected it earlier); Wisconsin, May 26, 1911; New York, July \\n12, 1911; Arizona, April 6, 1912; Minnesota, June 11, 1912; Louisiana, \\nJune 28, 1912; West Virginia, January 31, 1913; New Mexico, February 3, \\n1913' relationships=6>, <Record node='The judges of the Supreme and             3          1' relationships=5>, <Record node='The President, Vice President and all civil \\nOfficers of the United States, shall be removed from Office on \\nImpeachment for, and Conviction of, Treason, Bribery, or other \\nhigh Crimes and Misdemeanors' relationships=5>, <Record node='Article [XXI' relationships=5>, <Record node='Nor shall any State be formed by the            4          3       1\\n     junction of two or more States, or\\n     parts of States, without the consent\\n     of the legislatures and of Congress' relationships=4>, <Record node='thirds of each House, remove such\\n     disability' relationships=4>, <Record node='Congress shall have power to enforce this \\narticle by appropriate legislation' relationships=4>, <Record node='Certification of Validity\\n\\n    Publication of the certifying statement of the Administrator of \\nGeneral Services that the amendment had become valid was made on March \\n1, 1951, F' relationships=4>]\n"
     ]
    }
   ],
   "source": [
    "# Query to return the top 10 most frequent nodes with a common relationship\n",
    "query = \"\"\"\n",
    "MATCH (n)-[r]->()\n",
    "RETURN n.name AS node, count(r) AS relationships\n",
    "ORDER BY relationships DESC\n",
    "LIMIT 10\n",
    "\"\"\"\n",
    "top_nodes = run_query(uri, user, password, query)\n",
    "print(\"Top 10 most frequent nodes with a common relationship:\", top_nodes)"
   ]
  },
  {
   "cell_type": "code",
   "execution_count": null,
   "metadata": {},
   "outputs": [],
   "source": [
    "# Query to return the top 10 most frequent relationships"
   ]
  },
  {
   "cell_type": "code",
   "execution_count": 7,
   "metadata": {},
   "outputs": [
    {
     "name": "stdout",
     "output_type": "stream",
     "text": [
      "Top 3 most frequent relationships: [<Record relationship='RELATED_TO' frequency=743>]\n"
     ]
    }
   ],
   "source": [
    "# Query to return the top 3 most frequent relationships\n",
    "query = \"\"\"\n",
    "MATCH ()-[r]->()\n",
    "RETURN type(r) AS relationship, count(r) AS frequency\n",
    "ORDER BY frequency DESC\n",
    "LIMIT 3\n",
    "\"\"\"\n",
    "top_relationships = run_query(uri, user, password, query)\n",
    "print(\"Top 3 most frequent relationships:\", top_relationships)"
   ]
  },
  {
   "cell_type": "code",
   "execution_count": null,
   "metadata": {},
   "outputs": [],
   "source": [
    "# Query to return the top 3 most frequent relationships plus the nodes counts for each relationship"
   ]
  },
  {
   "cell_type": "code",
   "execution_count": null,
   "metadata": {},
   "outputs": [
    {
     "name": "stdout",
     "output_type": "stream",
     "text": [
      "Top 3 most frequent relationships plus the node count for each of those relationships: [<Record relationship='RELATED_TO' frequency=743 node_count=526>]\n"
     ]
    }
   ],
   "source": [
    "# Query to return the top 3 most frequent relationships plus the nodes counts for each relationship\n",
    "query = \"\"\"\n",
    "MATCH ()-[r]->()\n",
    "WITH type(r) AS relationship, count(r) AS frequency\n",
    "ORDER BY frequency DESC\n",
    "LIMIT 3\n",
    "MATCH (n)-[r]->()\n",
    "WHERE type(r) = relationship\n",
    "RETURN relationship, frequency, count(DISTINCT n) AS node_count\n",
    "ORDER BY frequency DESC\n",
    "\"\"\"\n",
    "top_relationships_with_node_count = run_query(uri, user, password, query)\n",
    "print(\"Top 3 most frequent relationships plus the node count for each of those relationships:\", top_relationships_with_node_count)"
   ]
  },
  {
   "cell_type": "code",
   "execution_count": 10,
   "metadata": {},
   "outputs": [
    {
     "name": "stderr",
     "output_type": "stream",
     "text": [
      "Received notification from DBMS server: {severity: WARNING} {code: Neo.ClientNotification.Statement.UnknownLabelWarning} {category: UNRECOGNIZED} {title: The provided label is not in the database.} {description: One of the labels in your query is not available in the database, make sure you didn't misspell it or that the label is available when you run this statement in your application (the missing label name is: Amendment)} {position: line: 1, column: 10, offset: 9} for query: 'MATCH (a:Amendment) RETURN count(a) as amendment_count'\n"
     ]
    },
    {
     "name": "stdout",
     "output_type": "stream",
     "text": [
      "Number of amendments in the US Constitution: [<Record amendment_count=0>]\n"
     ]
    }
   ],
   "source": [
    "# Query to show number of amendments in the US Constitution\n",
    "query = \"MATCH (a:Amendment) RETURN count(a) as amendment_count\"\n",
    "amendment_count = run_query(uri, user, password, query)\n",
    "print(\"Number of amendments in the US Constitution:\", amendment_count)"
   ]
  },
  {
   "cell_type": "code",
   "execution_count": 11,
   "metadata": {},
   "outputs": [
    {
     "name": "stdout",
     "output_type": "stream",
     "text": [
      "Top 3 most common properties from all nodes in the graph: [<Record property='name' frequency=2368>]\n"
     ]
    }
   ],
   "source": [
    "# Query to show the top 3 most common properties from all nodes in the graph\n",
    "query = \"\"\"\n",
    "MATCH (n)\n",
    "UNWIND keys(n) AS property\n",
    "RETURN property, count(n[property]) AS frequency\n",
    "ORDER BY frequency DESC\n",
    "LIMIT 3\n",
    "\"\"\"\n",
    "top_properties = run_query(uri, user, password, query)\n",
    "print(\"Top 3 most common properties from all nodes in the graph:\", top_properties)"
   ]
  },
  {
   "cell_type": "code",
   "execution_count": 12,
   "metadata": {},
   "outputs": [
    {
     "name": "stderr",
     "output_type": "stream",
     "text": [
      "Received notification from DBMS server: {severity: WARNING} {code: Neo.ClientNotification.Statement.AggregationSkippedNull} {category: UNRECOGNIZED} {title: The query contains an aggregation function that skips null values.} {description: null value eliminated in set function.} {position: None} for query: '\\nMATCH (n)\\nOPTIONAL MATCH (n)-[r]->()\\nWITH n, COUNT(r) AS relationships\\nRETURN \\n    COUNT(CASE WHEN relationships > 0 THEN 1 END) AS nodes_with_relationships,\\n    COUNT(CASE WHEN relationships = 0 THEN 1 END) AS nodes_without_relationships\\n'\n"
     ]
    },
    {
     "name": "stdout",
     "output_type": "stream",
     "text": [
      "Nodes with and without relationships: [<Record nodes_with_relationships=526 nodes_without_relationships=1842>]\n"
     ]
    }
   ],
   "source": [
    "# Query to show how many nodes have a relationship and how many nodes have no relationship\n",
    "query = \"\"\"\n",
    "MATCH (n)\n",
    "OPTIONAL MATCH (n)-[r]->()\n",
    "WITH n, COUNT(r) AS relationships\n",
    "RETURN \n",
    "    COUNT(CASE WHEN relationships > 0 THEN 1 END) AS nodes_with_relationships,\n",
    "    COUNT(CASE WHEN relationships = 0 THEN 1 END) AS nodes_without_relationships\n",
    "\"\"\"\n",
    "nodes_relationships_status = run_query(uri, user, password, query)\n",
    "print(\"Nodes with and without relationships:\", nodes_relationships_status)"
   ]
  },
  {
   "cell_type": "markdown",
   "metadata": {},
   "source": [
    "While this exercise did indeed build a knowledge graph using a text file of the US Constitution and all of it's amendments, it's not a particularly useful KG. The only node property is \"name\" and the only relationship type is \"related_to\", which is better than nothing, but not all that helpful for gleaning knowledge from a body of text that we might not already know very much about. \n",
    "\n",
    "We might be able to improve this by using a better model for extracting the nodes and relationships (this used a basic sentence-transformer embedding model all-MiniLM-L6-v2, which might not have been the best choice). The other two models (commented out above) are likely worth trying."
   ]
  }
 ],
 "metadata": {
  "kernelspec": {
   "display_name": "Python 3",
   "language": "python",
   "name": "python3"
  },
  "language_info": {
   "codemirror_mode": {
    "name": "ipython",
    "version": 3
   },
   "file_extension": ".py",
   "mimetype": "text/x-python",
   "name": "python",
   "nbconvert_exporter": "python",
   "pygments_lexer": "ipython3",
   "version": "3.11.9"
  }
 },
 "nbformat": 4,
 "nbformat_minor": 2
}
