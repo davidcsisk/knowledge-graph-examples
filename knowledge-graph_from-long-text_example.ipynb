{
 "cells": [
  {
   "cell_type": "code",
   "execution_count": null,
   "metadata": {},
   "outputs": [
    {
     "name": "stdout",
     "output_type": "stream",
     "text": [
      "Requirement already satisfied: neo4j in c:\\users\\dave sisk\\appdata\\local\\programs\\python\\python311\\lib\\site-packages (5.28.1)\n",
      "Requirement already satisfied: pytz in c:\\users\\dave sisk\\appdata\\local\\programs\\python\\python311\\lib\\site-packages (from neo4j) (2024.1)\n"
     ]
    },
    {
     "name": "stderr",
     "output_type": "stream",
     "text": [
      "\n",
      "[notice] A new release of pip is available: 24.0 -> 25.0.1\n",
      "[notice] To update, run: python.exe -m pip install --upgrade pip\n"
     ]
    }
   ],
   "source": [
    "#!pip install py2neo\n",
    "#!pip install sentence-transformers\n",
    "#!pip install neo4j"
   ]
  },
  {
   "cell_type": "code",
   "execution_count": null,
   "metadata": {},
   "outputs": [
    {
     "name": "stderr",
     "output_type": "stream",
     "text": [
      "c:\\Users\\Dave Sisk\\AppData\\Local\\Programs\\Python\\Python311\\Lib\\site-packages\\transformers\\tokenization_utils_base.py:1601: FutureWarning: `clean_up_tokenization_spaces` was not set. It will be set to `True` by default. This behavior will be depracted in transformers v4.45, and will be then set to `False` by default. For more details check this issue: https://github.com/huggingface/transformers/issues/31884\n",
      "  warnings.warn(\n",
      "C:\\Users\\Dave Sisk\\AppData\\Local\\Temp\\ipykernel_135108\\3383256125.py:20: DeprecationWarning: write_transaction has been renamed to execute_write\n",
      "  session.write_transaction(add_node, \"Node\", node)\n",
      "C:\\Users\\Dave Sisk\\AppData\\Local\\Temp\\ipykernel_135108\\3383256125.py:22: DeprecationWarning: write_transaction has been renamed to execute_write\n",
      "  session.write_transaction(add_relationship, \"Node\", edge[0], \"Node\", edge[1], \"RELATED_TO\")\n"
     ]
    }
   ],
   "source": [
    "# Import the necessary libraries\n",
    "import os\n",
    "from neo4j import GraphDatabase\n",
    "from sentence_transformers import SentenceTransformer, util\n"
   ]
  },
  {
   "cell_type": "code",
   "execution_count": null,
   "metadata": {},
   "outputs": [],
   "source": [
    "# Get connection parameters from environment variables\n",
    "\n",
    "uri = os.getenv('NEO4J_URI', 'neo4j://b92ae674.databases.neo4j.io')\n",
    "user = os.getenv('NEO4J_USER', 'neo4j')\n",
    "password = os.getenv('NEO4J_PASSWORD', 'password')"
   ]
  },
  {
   "cell_type": "code",
   "execution_count": null,
   "metadata": {},
   "outputs": [],
   "source": [
    "# Clear the Neo4j database beforehand if needed\n",
    "def clear_db(uri, user, password):\n",
    "    driver = GraphDatabase.driver(uri, auth=(user, password))\n",
    "    with driver.session() as session:\n",
    "        session.run(\"MATCH (n) DETACH DELETE n\")"
   ]
  },
  {
   "cell_type": "code",
   "execution_count": null,
   "metadata": {},
   "outputs": [],
   "source": [
    "# Function to create nodes and relationships in Neo4j\n",
    "def create_knowledge_graph(uri, user, password, nodes, edges):\n",
    "    driver = GraphDatabase.driver(uri, auth=(user, password))\n",
    "    \n",
    "    def add_node(tx, label, name):\n",
    "        tx.run(\"MERGE (a:\" + label + \" {name: $name})\", name=name)\n",
    "    \n",
    "    def add_relationship(tx, label1, name1, label2, name2, relationship):\n",
    "        tx.run(\"MATCH (a:\" + label1 + \" {name: $name1}), (b:\" + label2 + \" {name: $name2}) \"\n",
    "               \"MERGE (a)-[r:\" + relationship + \"]->(b)\",\n",
    "               name1=name1, name2=name2)\n",
    "    \n",
    "    with driver.session() as session:\n",
    "        for node in nodes:\n",
    "            session.execute_write(add_node, \"Node\", node)\n",
    "        for edge in edges:\n",
    "            session.execute_write(add_relationship, \"Node\", edge[0], \"Node\", edge[1], \"RELATED_TO\")\n",
    "    \n",
    "    driver.close()\n",
    "\n",
    "# Function to extract nodes and edges from text using sentence-transformers\n",
    "def extract_nodes_edges(text):\n",
    "    model = SentenceTransformer('sentence-transformers/all-MiniLM-L6-v2')\n",
    "    sentences = text.split('.')\n",
    "    embeddings = model.encode(sentences, convert_to_tensor=True)\n",
    "    \n",
    "    # Use cosine similarity to find related sentences\n",
    "    cosine_scores = util.pytorch_cos_sim(embeddings, embeddings)\n",
    "    \n",
    "    nodes = set()\n",
    "    edges = set()\n",
    "    \n",
    "    for i in range(len(sentences)):\n",
    "        nodes.add(sentences[i].strip())\n",
    "        for j in range(i+1, len(sentences)):\n",
    "            if cosine_scores[i][j] > 0.7:  # Threshold for similarity\n",
    "                edges.add((sentences[i].strip(), sentences[j].strip()))\n",
    "    \n",
    "    return list(nodes), list(edges)\n"
   ]
  },
  {
   "cell_type": "code",
   "execution_count": null,
   "metadata": {},
   "outputs": [],
   "source": [
    "# Process the text document\n",
    "filename = 'US-Constitution-With-Amendments.txt'\n",
    "\n",
    "# Read the full text data\n",
    "with open(filename, \"r\") as file:\n",
    "    text = file.read()\n",
    "\n",
    "# Extract nodes and edges from the text\n",
    "nodes, edges = extract_nodes_edges(text)\n",
    "\n",
    "# NOTE: This ran for 72 mins on Windows 10!\n",
    "# Create the knowledge graph\n",
    "create_knowledge_graph(uri, user, password, nodes, edges)"
   ]
  },
  {
   "cell_type": "code",
   "execution_count": null,
   "metadata": {},
   "outputs": [],
   "source": [
    "# Helper function to run a query and return the results\n",
    "def run_query(uri, user, password, query):\n",
    "    driver = GraphDatabase.driver(uri, auth=(user, password))\n",
    "    results = []\n",
    "    \n",
    "    with driver.session() as session:\n",
    "        result = session.run(query)\n",
    "        for record in result:\n",
    "            results.append(record)\n",
    "    \n",
    "    driver.close()\n",
    "    return results\n",
    "\n",
    "# Get connection parameters from environment variables\n",
    "uri = os.getenv('NEO4J_URI', 'neo4j://b92ae674.databases.neo4j.io')\n",
    "user = os.getenv('NEO4J_USER', 'neo4j')\n",
    "password = os.getenv('NEO4J_PASSWORD', 'password')\n"
   ]
  },
  {
   "cell_type": "markdown",
   "metadata": {},
   "source": [
    "Example Neo4j Queries against this data..."
   ]
  },
  {
   "cell_type": "code",
   "execution_count": 20,
   "metadata": {},
   "outputs": [
    {
     "data": {
      "text/plain": [
       "[<Record n=<Node element_id='4:015e1c75-ac37-496e-85a1-1fb0d86f4b10:0' labels=frozenset({'IP'}) properties={'address': '192.168.202.100'}>>,\n",
       " <Record n=<Node element_id='4:015e1c75-ac37-496e-85a1-1fb0d86f4b10:1' labels=frozenset({'IP'}) properties={'address': '192.168.202.76'}>>,\n",
       " <Record n=<Node element_id='4:015e1c75-ac37-496e-85a1-1fb0d86f4b10:2' labels=frozenset({'IP'}) properties={'address': '192.168.202.89'}>>,\n",
       " <Record n=<Node element_id='4:015e1c75-ac37-496e-85a1-1fb0d86f4b10:3' labels=frozenset({'IP'}) properties={'address': '192.168.202.85'}>>,\n",
       " <Record n=<Node element_id='4:015e1c75-ac37-496e-85a1-1fb0d86f4b10:4' labels=frozenset({'IP'}) properties={'address': '192.168.202.102'}>>,\n",
       " <Record n=<Node element_id='4:015e1c75-ac37-496e-85a1-1fb0d86f4b10:5' labels=frozenset({'IP'}) properties={'address': '192.168.202.93'}>>,\n",
       " <Record n=<Node element_id='4:015e1c75-ac37-496e-85a1-1fb0d86f4b10:6' labels=frozenset({'IP'}) properties={'address': '192.168.202.97'}>>,\n",
       " <Record n=<Node element_id='4:015e1c75-ac37-496e-85a1-1fb0d86f4b10:7' labels=frozenset({'IP'}) properties={'address': 'fe80::ba8d:12ff:fe53:a8d8'}>>,\n",
       " <Record n=<Node element_id='4:015e1c75-ac37-496e-85a1-1fb0d86f4b10:8' labels=frozenset({'IP'}) properties={'address': '192.168.202.71'}>>,\n",
       " <Record n=<Node element_id='4:015e1c75-ac37-496e-85a1-1fb0d86f4b10:9' labels=frozenset({'IP'}) properties={'address': '192.168.202.77'}>>]"
      ]
     },
     "execution_count": 20,
     "metadata": {},
     "output_type": "execute_result"
    }
   ],
   "source": [
    "# Query 1: Get all nodes\n",
    "query = \"MATCH (n) RETURN n LIMIT 10\"\n",
    "nodes = run_query(uri, user, password, query)\n",
    "nodes"
   ]
  },
  {
   "cell_type": "code",
   "execution_count": 22,
   "metadata": {},
   "outputs": [
    {
     "data": {
      "text/plain": [
       "[<Record r=<Relationship element_id='5:015e1c75-ac37-496e-85a1-1fb0d86f4b10:1152922604118474752' nodes=(<Node element_id='4:015e1c75-ac37-496e-85a1-1fb0d86f4b10:0' labels=frozenset() properties={}>, <Node element_id='4:015e1c75-ac37-496e-85a1-1fb0d86f4b10:34' labels=frozenset() properties={}>) type='USES_PORT' properties={}>>,\n",
       " <Record r=<Relationship element_id='5:015e1c75-ac37-496e-85a1-1fb0d86f4b10:1155174403932160000' nodes=(<Node element_id='4:015e1c75-ac37-496e-85a1-1fb0d86f4b10:0' labels=frozenset() properties={}>, <Node element_id='4:015e1c75-ac37-496e-85a1-1fb0d86f4b10:43' labels=frozenset() properties={}>) type='USES_PORT' properties={}>>,\n",
       " <Record r=<Relationship element_id='5:015e1c75-ac37-496e-85a1-1fb0d86f4b10:1157426203745845248' nodes=(<Node element_id='4:015e1c75-ac37-496e-85a1-1fb0d86f4b10:0' labels=frozenset() properties={}>, <Node element_id='4:015e1c75-ac37-496e-85a1-1fb0d86f4b10:313' labels=frozenset() properties={}>) type='USES_PORT' properties={}>>,\n",
       " <Record r=<Relationship element_id='5:015e1c75-ac37-496e-85a1-1fb0d86f4b10:1159678003559530496' nodes=(<Node element_id='4:015e1c75-ac37-496e-85a1-1fb0d86f4b10:0' labels=frozenset() properties={}>, <Node element_id='4:015e1c75-ac37-496e-85a1-1fb0d86f4b10:320' labels=frozenset() properties={}>) type='USES_PORT' properties={}>>,\n",
       " <Record r=<Relationship element_id='5:015e1c75-ac37-496e-85a1-1fb0d86f4b10:1161929803373215744' nodes=(<Node element_id='4:015e1c75-ac37-496e-85a1-1fb0d86f4b10:0' labels=frozenset() properties={}>, <Node element_id='4:015e1c75-ac37-496e-85a1-1fb0d86f4b10:321' labels=frozenset() properties={}>) type='USES_PORT' properties={}>>,\n",
       " <Record r=<Relationship element_id='5:015e1c75-ac37-496e-85a1-1fb0d86f4b10:1164181603186900992' nodes=(<Node element_id='4:015e1c75-ac37-496e-85a1-1fb0d86f4b10:0' labels=frozenset() properties={}>, <Node element_id='4:015e1c75-ac37-496e-85a1-1fb0d86f4b10:322' labels=frozenset() properties={}>) type='USES_PORT' properties={}>>,\n",
       " <Record r=<Relationship element_id='5:015e1c75-ac37-496e-85a1-1fb0d86f4b10:1166433403000586240' nodes=(<Node element_id='4:015e1c75-ac37-496e-85a1-1fb0d86f4b10:0' labels=frozenset() properties={}>, <Node element_id='4:015e1c75-ac37-496e-85a1-1fb0d86f4b10:323' labels=frozenset() properties={}>) type='USES_PORT' properties={}>>,\n",
       " <Record r=<Relationship element_id='5:015e1c75-ac37-496e-85a1-1fb0d86f4b10:6919781926966395772' nodes=(<Node element_id='4:015e1c75-ac37-496e-85a1-1fb0d86f4b10:0' labels=frozenset() properties={}>, <Node element_id='4:015e1c75-ac37-496e-85a1-1fb0d86f4b10:892' labels=frozenset() properties={}>) type='USES_PORT' properties={}>>,\n",
       " <Record r=<Relationship element_id='5:015e1c75-ac37-496e-85a1-1fb0d86f4b10:6919781926966395794' nodes=(<Node element_id='4:015e1c75-ac37-496e-85a1-1fb0d86f4b10:0' labels=frozenset() properties={}>, <Node element_id='4:015e1c75-ac37-496e-85a1-1fb0d86f4b10:914' labels=frozenset() properties={}>) type='USES_PORT' properties={}>>,\n",
       " <Record r=<Relationship element_id='5:015e1c75-ac37-496e-85a1-1fb0d86f4b10:6917530127152710829' nodes=(<Node element_id='4:015e1c75-ac37-496e-85a1-1fb0d86f4b10:0' labels=frozenset() properties={}>, <Node element_id='4:015e1c75-ac37-496e-85a1-1fb0d86f4b10:1197' labels=frozenset() properties={}>) type='USES_PORT' properties={}>>]"
      ]
     },
     "execution_count": 22,
     "metadata": {},
     "output_type": "execute_result"
    }
   ],
   "source": [
    "# Query 2: Get all relationships\n",
    "query = \"MATCH ()-[r]->() RETURN r LIMIT 10\"\n",
    "relationships = run_query(uri, user, password, query)\n",
    "relationships"
   ]
  },
  {
   "cell_type": "code",
   "execution_count": 26,
   "metadata": {},
   "outputs": [
    {
     "name": "stdout",
     "output_type": "stream",
     "text": [
      "Nodes related to 'Article I': [<Record n=<Node element_id='4:015e1c75-ac37-496e-85a1-1fb0d86f4b10:7262' labels=frozenset({'Node'}) properties={'name': 'Article I'}> r=<Relationship element_id='5:015e1c75-ac37-496e-85a1-1fb0d86f4b10:1157429502280735838' nodes=(<Node element_id='4:015e1c75-ac37-496e-85a1-1fb0d86f4b10:7262' labels=frozenset({'Node'}) properties={'name': 'Article I'}>, <Node element_id='4:015e1c75-ac37-496e-85a1-1fb0d86f4b10:5547' labels=frozenset({'Node'}) properties={'name': 'Article IV'}>) type='RELATED_TO' properties={}> m=<Node element_id='4:015e1c75-ac37-496e-85a1-1fb0d86f4b10:5547' labels=frozenset({'Node'}) properties={'name': 'Article IV'}>>, <Record n=<Node element_id='4:015e1c75-ac37-496e-85a1-1fb0d86f4b10:7262' labels=frozenset({'Node'}) properties={'name': 'Article I'}> r=<Relationship element_id='5:015e1c75-ac37-496e-85a1-1fb0d86f4b10:1164184901721791582' nodes=(<Node element_id='4:015e1c75-ac37-496e-85a1-1fb0d86f4b10:7262' labels=frozenset({'Node'}) properties={'name': 'Article I'}>, <Node element_id='4:015e1c75-ac37-496e-85a1-1fb0d86f4b10:5584' labels=frozenset({'Node'}) properties={'name': 'Article II'}>) type='RELATED_TO' properties={}> m=<Node element_id='4:015e1c75-ac37-496e-85a1-1fb0d86f4b10:5584' labels=frozenset({'Node'}) properties={'name': 'Article II'}>>, <Record n=<Node element_id='4:015e1c75-ac37-496e-85a1-1fb0d86f4b10:7262' labels=frozenset({'Node'}) properties={'name': 'Article I'}> r=<Relationship element_id='5:015e1c75-ac37-496e-85a1-1fb0d86f4b10:1161933101908106334' nodes=(<Node element_id='4:015e1c75-ac37-496e-85a1-1fb0d86f4b10:7262' labels=frozenset({'Node'}) properties={'name': 'Article I'}>, <Node element_id='4:015e1c75-ac37-496e-85a1-1fb0d86f4b10:6094' labels=frozenset({'Node'}) properties={'name': 'Article V'}>) type='RELATED_TO' properties={}> m=<Node element_id='4:015e1c75-ac37-496e-85a1-1fb0d86f4b10:6094' labels=frozenset({'Node'}) properties={'name': 'Article V'}>>, <Record n=<Node element_id='4:015e1c75-ac37-496e-85a1-1fb0d86f4b10:7262' labels=frozenset({'Node'}) properties={'name': 'Article I'}> r=<Relationship element_id='5:015e1c75-ac37-496e-85a1-1fb0d86f4b10:1152925902653365342' nodes=(<Node element_id='4:015e1c75-ac37-496e-85a1-1fb0d86f4b10:7262' labels=frozenset({'Node'}) properties={'name': 'Article I'}>, <Node element_id='4:015e1c75-ac37-496e-85a1-1fb0d86f4b10:6316' labels=frozenset({'Node'}) properties={'name': 'Article [IV'}>) type='RELATED_TO' properties={}> m=<Node element_id='4:015e1c75-ac37-496e-85a1-1fb0d86f4b10:6316' labels=frozenset({'Node'}) properties={'name': 'Article [IV'}>>, <Record n=<Node element_id='4:015e1c75-ac37-496e-85a1-1fb0d86f4b10:7262' labels=frozenset({'Node'}) properties={'name': 'Article I'}> r=<Relationship element_id='5:015e1c75-ac37-496e-85a1-1fb0d86f4b10:1155177702467050590' nodes=(<Node element_id='4:015e1c75-ac37-496e-85a1-1fb0d86f4b10:7262' labels=frozenset({'Node'}) properties={'name': 'Article I'}>, <Node element_id='4:015e1c75-ac37-496e-85a1-1fb0d86f4b10:6982' labels=frozenset({'Node'}) properties={'name': 'Article [XXI'}>) type='RELATED_TO' properties={}> m=<Node element_id='4:015e1c75-ac37-496e-85a1-1fb0d86f4b10:6982' labels=frozenset({'Node'}) properties={'name': 'Article [XXI'}>>, <Record n=<Node element_id='4:015e1c75-ac37-496e-85a1-1fb0d86f4b10:7262' labels=frozenset({'Node'}) properties={'name': 'Article I'}> r=<Relationship element_id='5:015e1c75-ac37-496e-85a1-1fb0d86f4b10:1159681302094421086' nodes=(<Node element_id='4:015e1c75-ac37-496e-85a1-1fb0d86f4b10:7262' labels=frozenset({'Node'}) properties={'name': 'Article I'}>, <Node element_id='4:015e1c75-ac37-496e-85a1-1fb0d86f4b10:7192' labels=frozenset({'Node'}) properties={'name': 'Article [XVII'}>) type='RELATED_TO' properties={}> m=<Node element_id='4:015e1c75-ac37-496e-85a1-1fb0d86f4b10:7192' labels=frozenset({'Node'}) properties={'name': 'Article [XVII'}>>]\n"
     ]
    }
   ],
   "source": [
    "# Query 3: Find nodes related to a specific node\n",
    "specific_node = \"Article I\"\n",
    "query = f\"MATCH (n)-[r:RELATED_TO]->(m) WHERE n.name = '{specific_node}' RETURN n, r, m\"\n",
    "related_nodes = run_query(uri, user, password, query)\n",
    "print(f\"Nodes related to '{specific_node}':\", related_nodes)"
   ]
  },
  {
   "cell_type": "code",
   "execution_count": 27,
   "metadata": {},
   "outputs": [
    {
     "name": "stdout",
     "output_type": "stream",
     "text": [
      "Number of nodes: [<Record node_count=7549>]\n"
     ]
    }
   ],
   "source": [
    "# Query 4: Count the number of nodes\n",
    "query = \"MATCH (n) RETURN count(n) as node_count\"\n",
    "node_count = run_query(uri, user, password, query)\n",
    "print(\"Number of nodes:\", node_count)"
   ]
  },
  {
   "cell_type": "code",
   "execution_count": 28,
   "metadata": {},
   "outputs": [
    {
     "name": "stdout",
     "output_type": "stream",
     "text": [
      "Number of relationships: [<Record relationship_count=21088>]\n"
     ]
    }
   ],
   "source": [
    "# Query 5: Count the number of relationships\n",
    "query = \"MATCH ()-[r]->() RETURN count(r) as relationship_count\"\n",
    "relationship_count = run_query(uri, user, password, query)\n",
    "print(\"Number of relationships:\", relationship_count)"
   ]
  },
  {
   "cell_type": "markdown",
   "metadata": {},
   "source": []
  }
 ],
 "metadata": {
  "kernelspec": {
   "display_name": "Python 3",
   "language": "python",
   "name": "python3"
  },
  "language_info": {
   "codemirror_mode": {
    "name": "ipython",
    "version": 3
   },
   "file_extension": ".py",
   "mimetype": "text/x-python",
   "name": "python",
   "nbconvert_exporter": "python",
   "pygments_lexer": "ipython3",
   "version": "3.11.9"
  }
 },
 "nbformat": 4,
 "nbformat_minor": 2
}
