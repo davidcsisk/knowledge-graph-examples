{
 "cells": [
  {
   "cell_type": "code",
   "execution_count": null,
   "metadata": {},
   "outputs": [],
   "source": [
    "#!pip install py2neo\n",
    "#!pip install sentence-transformers\n",
    "#!pip install neo4j"
   ]
  },
  {
   "cell_type": "code",
   "execution_count": null,
   "metadata": {},
   "outputs": [],
   "source": [
    "# Import the necessary libraries\n",
    "import os\n",
    "from neo4j import GraphDatabase\n",
    "from sentence_transformers import SentenceTransformer, util"
   ]
  },
  {
   "cell_type": "code",
   "execution_count": null,
   "metadata": {},
   "outputs": [],
   "source": [
    "# Get connection parameters from environment variables\n",
    "\n",
    "uri = os.getenv('NEO4J_URI', 'neo4j://b92ae674.databases.neo4j.io')\n",
    "user = os.getenv('NEO4J_USER', 'neo4j')\n",
    "password = os.getenv('NEO4J_PASSWORD', 'password')"
   ]
  },
  {
   "cell_type": "code",
   "execution_count": null,
   "metadata": {},
   "outputs": [],
   "source": [
    "# Clear the Neo4j database beforehand if needed\n",
    "def clear_db(uri, user, password):\n",
    "    driver = GraphDatabase.driver(uri, auth=(user, password))\n",
    "    with driver.session() as session:\n",
    "        session.run(\"MATCH (n) DETACH DELETE n\")"
   ]
  },
  {
   "cell_type": "code",
   "execution_count": null,
   "metadata": {},
   "outputs": [],
   "source": [
    "# Function to create nodes and relationships in Neo4j\n",
    "def create_knowledge_graph(uri, user, password, nodes, edges):\n",
    "    driver = GraphDatabase.driver(uri, auth=(user, password))\n",
    "    \n",
    "    def add_node(tx, label, name):\n",
    "        tx.run(\"MERGE (a:\" + label + \" {name: $name})\", name=name)\n",
    "    \n",
    "    def add_relationship(tx, label1, name1, label2, name2, relationship):\n",
    "        tx.run(\"MATCH (a:\" + label1 + \" {name: $name1}), (b:\" + label2 + \" {name: $name2}) \"\n",
    "               \"MERGE (a)-[r:\" + relationship + \"]->(b)\",\n",
    "               name1=name1, name2=name2)\n",
    "    \n",
    "    with driver.session() as session:\n",
    "        for node in nodes:\n",
    "            session.execute_write(add_node, \"Node\", node)\n",
    "        for edge in edges:\n",
    "            session.execute_write(add_relationship, \"Node\", edge[0], \"Node\", edge[1], \"RELATED_TO\")\n",
    "    \n",
    "    driver.close()\n",
    "\n",
    "# Function to extract nodes and edges from text using sentence-transformers\n",
    "def extract_nodes_edges(text):\n",
    "    model = SentenceTransformer('sentence-transformers/all-MiniLM-L6-v2')\n",
    "    sentences = text.split('.')\n",
    "    embeddings = model.encode(sentences, convert_to_tensor=True)\n",
    "    \n",
    "    # Use cosine similarity to find related sentences\n",
    "    cosine_scores = util.pytorch_cos_sim(embeddings, embeddings)\n",
    "    \n",
    "    nodes = set()\n",
    "    edges = set()\n",
    "    \n",
    "    similarity_threshold = 0.9\n",
    "\n",
    "    for i in range(len(sentences)):\n",
    "        nodes.add(sentences[i].strip())\n",
    "        for j in range(i+1, len(sentences)):\n",
    "            if cosine_scores[i][j] > similarity_threshold:  # Threshold for similarity\n",
    "                edges.add((sentences[i].strip(), sentences[j].strip()))\n",
    "    \n",
    "    return list(nodes), list(edges)\n"
   ]
  },
  {
   "cell_type": "code",
   "execution_count": null,
   "metadata": {},
   "outputs": [],
   "source": [
    "# Process the text document\n",
    "filename = 'US-Constitution-With-Amendments.txt'\n",
    "\n",
    "# Read the full text data\n",
    "with open(filename, \"r\") as file:\n",
    "    text = file.read()\n",
    "\n",
    "# Extract nodes and edges from the text\n",
    "nodes, edges = extract_nodes_edges(text)\n",
    "\n",
    "# NOTE: This ran for 72 mins on Windows 10, around 48 mins on Linux Mint 22\n",
    "# Create the knowledge graph\n",
    "create_knowledge_graph(uri, user, password, nodes, edges)"
   ]
  },
  {
   "cell_type": "code",
   "execution_count": null,
   "metadata": {},
   "outputs": [],
   "source": [
    "# Helper function to run a query and return the results\n",
    "def run_query(uri, user, password, query):\n",
    "    driver = GraphDatabase.driver(uri, auth=(user, password))\n",
    "    results = []\n",
    "    \n",
    "    with driver.session() as session:\n",
    "        result = session.run(query)\n",
    "        for record in result:\n",
    "            results.append(record)\n",
    "    \n",
    "    driver.close()\n",
    "    return results\n",
    "\n",
    "# Get connection parameters from environment variables\n",
    "uri = os.getenv('NEO4J_URI', 'neo4j://b92ae674.databases.neo4j.io')\n",
    "user = os.getenv('NEO4J_USER', 'neo4j')\n",
    "password = os.getenv('NEO4J_PASSWORD', 'password')\n"
   ]
  },
  {
   "cell_type": "markdown",
   "metadata": {},
   "source": [
    "Example Neo4j Queries against this data..."
   ]
  },
  {
   "cell_type": "code",
   "execution_count": null,
   "metadata": {},
   "outputs": [],
   "source": [
    "# Query 1: Get all nodes\n",
    "query = \"MATCH (n) RETURN n LIMIT 10\"\n",
    "nodes = run_query(uri, user, password, query)\n",
    "nodes"
   ]
  },
  {
   "cell_type": "code",
   "execution_count": null,
   "metadata": {},
   "outputs": [],
   "source": [
    "# Query 2: Get all relationships\n",
    "query = \"MATCH ()-[r]->() RETURN r LIMIT 10\"\n",
    "relationships = run_query(uri, user, password, query)\n",
    "relationships"
   ]
  },
  {
   "cell_type": "code",
   "execution_count": null,
   "metadata": {},
   "outputs": [],
   "source": [
    "# Query 3: Find nodes related to a specific node\n",
    "specific_node = \"Article I\"\n",
    "query = f\"MATCH (n)-[r:RELATED_TO]->(m) WHERE n.name = '{specific_node}' RETURN n, r, m\"\n",
    "related_nodes = run_query(uri, user, password, query)\n",
    "print(f\"Nodes related to '{specific_node}':\", related_nodes)"
   ]
  },
  {
   "cell_type": "code",
   "execution_count": null,
   "metadata": {},
   "outputs": [],
   "source": [
    "# Query 4: Count the number of nodes\n",
    "query = \"MATCH (n) RETURN count(n) as node_count\"\n",
    "node_count = run_query(uri, user, password, query)\n",
    "print(\"Number of nodes:\", node_count)"
   ]
  },
  {
   "cell_type": "code",
   "execution_count": null,
   "metadata": {},
   "outputs": [],
   "source": [
    "# Query 5: Count the number of relationships\n",
    "query = \"MATCH ()-[r]->() RETURN count(r) as relationship_count\"\n",
    "relationship_count = run_query(uri, user, password, query)\n",
    "print(\"Number of relationships:\", relationship_count)"
   ]
  },
  {
   "cell_type": "markdown",
   "metadata": {},
   "source": []
  }
 ],
 "metadata": {
  "kernelspec": {
   "display_name": "3.11.11",
   "language": "python",
   "name": "python3"
  },
  "language_info": {
   "codemirror_mode": {
    "name": "ipython",
    "version": 3
   },
   "file_extension": ".py",
   "mimetype": "text/x-python",
   "name": "python",
   "nbconvert_exporter": "python",
   "pygments_lexer": "ipython3",
   "version": "3.11.11"
  }
 },
 "nbformat": 4,
 "nbformat_minor": 2
}
