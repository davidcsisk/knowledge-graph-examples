{
 "cells": [
  {
   "cell_type": "code",
   "execution_count": null,
   "metadata": {},
   "outputs": [],
   "source": [
    "#!pip install py2neo\n",
    "#!pip install sentence-transformers\n",
    "#!pip install neo4j"
   ]
  },
  {
   "cell_type": "code",
   "execution_count": 1,
   "metadata": {},
   "outputs": [
    {
     "name": "stderr",
     "output_type": "stream",
     "text": [
      "c:\\Users\\Dave Sisk\\AppData\\Local\\Programs\\Python\\Python311\\Lib\\site-packages\\sentence_transformers\\cross_encoder\\CrossEncoder.py:11: TqdmWarning: IProgress not found. Please update jupyter and ipywidgets. See https://ipywidgets.readthedocs.io/en/stable/user_install.html\n",
      "  from tqdm.autonotebook import tqdm, trange\n"
     ]
    }
   ],
   "source": [
    "# Import the necessary libraries\n",
    "import os\n",
    "from neo4j import GraphDatabase\n",
    "from sentence_transformers import SentenceTransformer, util"
   ]
  },
  {
   "cell_type": "code",
   "execution_count": 2,
   "metadata": {},
   "outputs": [],
   "source": [
    "# Get connection parameters from environment variables\n",
    "\n",
    "uri = os.getenv('NEO4J_URI', 'neo4j://b92ae674.databases.neo4j.io')\n",
    "user = os.getenv('NEO4J_USER', 'neo4j')\n",
    "password = os.getenv('NEO4J_PASSWORD', 'password')"
   ]
  },
  {
   "cell_type": "code",
   "execution_count": 3,
   "metadata": {},
   "outputs": [],
   "source": [
    "# Clear the Neo4j database beforehand if needed\n",
    "def clear_db(uri, user, password):\n",
    "    driver = GraphDatabase.driver(uri, auth=(user, password))\n",
    "    with driver.session() as session:\n",
    "        session.run(\"MATCH (n) DETACH DELETE n\")"
   ]
  },
  {
   "cell_type": "code",
   "execution_count": 4,
   "metadata": {},
   "outputs": [],
   "source": [
    "# Function to create nodes and relationships in Neo4j\n",
    "def create_knowledge_graph(uri, user, password, nodes, edges):\n",
    "    driver = GraphDatabase.driver(uri, auth=(user, password))\n",
    "    \n",
    "    def add_node(tx, label, name):\n",
    "        tx.run(\"MERGE (a:\" + label + \" {name: $name})\", name=name)\n",
    "    \n",
    "    def add_relationship(tx, label1, name1, label2, name2, relationship):\n",
    "        tx.run(\"MATCH (a:\" + label1 + \" {name: $name1}), (b:\" + label2 + \" {name: $name2}) \"\n",
    "               \"MERGE (a)-[r:\" + relationship + \"]->(b)\",\n",
    "               name1=name1, name2=name2)\n",
    "    \n",
    "    with driver.session() as session:\n",
    "        for node in nodes:\n",
    "            session.execute_write(add_node, \"Node\", node)\n",
    "        for edge in edges:\n",
    "            session.execute_write(add_relationship, \"Node\", edge[0], \"Node\", edge[1], \"RELATED_TO\")\n",
    "    \n",
    "    driver.close()\n",
    "\n",
    "# Function to extract nodes and edges from text using sentence-transformers\n",
    "def extract_nodes_edges(text):\n",
    "    model = SentenceTransformer('sentence-transformers/all-MiniLM-L6-v2')\n",
    "    sentences = text.split('.')\n",
    "    embeddings = model.encode(sentences, convert_to_tensor=True)\n",
    "    \n",
    "    # Use cosine similarity to find related sentences\n",
    "    cosine_scores = util.pytorch_cos_sim(embeddings, embeddings)\n",
    "    \n",
    "    nodes = set()\n",
    "    edges = set()\n",
    "    \n",
    "    similarity_threshold = 0.9\n",
    "\n",
    "    for i in range(len(sentences)):\n",
    "        nodes.add(sentences[i].strip())\n",
    "        for j in range(i+1, len(sentences)):\n",
    "            if cosine_scores[i][j] > similarity_threshold:  # Threshold for similarity\n",
    "                edges.add((sentences[i].strip(), sentences[j].strip()))\n",
    "    \n",
    "    return list(nodes), list(edges)\n"
   ]
  },
  {
   "cell_type": "code",
   "execution_count": 5,
   "metadata": {},
   "outputs": [
    {
     "name": "stderr",
     "output_type": "stream",
     "text": [
      "c:\\Users\\Dave Sisk\\AppData\\Local\\Programs\\Python\\Python311\\Lib\\site-packages\\transformers\\tokenization_utils_base.py:1601: FutureWarning: `clean_up_tokenization_spaces` was not set. It will be set to `True` by default. This behavior will be depracted in transformers v4.45, and will be then set to `False` by default. For more details check this issue: https://github.com/huggingface/transformers/issues/31884\n",
      "  warnings.warn(\n"
     ]
    }
   ],
   "source": [
    "# Process the text document\n",
    "filename = 'US-Constitution-With-Amendments.txt'\n",
    "\n",
    "# Read the full text data\n",
    "with open(filename, \"r\") as file:\n",
    "    text = file.read()\n",
    "\n",
    "# Extract nodes and edges from the text\n",
    "nodes, edges = extract_nodes_edges(text)\n",
    "\n",
    "# NOTE: This ran for 72 mins on Windows 10, around 48 mins on Linux Mint 22\n",
    "# Create the knowledge graph\n",
    "create_knowledge_graph(uri, user, password, nodes, edges)"
   ]
  },
  {
   "cell_type": "code",
   "execution_count": 6,
   "metadata": {},
   "outputs": [],
   "source": [
    "# Helper function to run a query and return the results\n",
    "def run_query(uri, user, password, query):\n",
    "    driver = GraphDatabase.driver(uri, auth=(user, password))\n",
    "    results = []\n",
    "    \n",
    "    with driver.session() as session:\n",
    "        result = session.run(query)\n",
    "        for record in result:\n",
    "            results.append(record)\n",
    "    \n",
    "    driver.close()\n",
    "    return results\n",
    "\n",
    "# Get connection parameters from environment variables\n",
    "uri = os.getenv('NEO4J_URI', 'neo4j://b92ae674.databases.neo4j.io')\n",
    "user = os.getenv('NEO4J_USER', 'neo4j')\n",
    "password = os.getenv('NEO4J_PASSWORD', 'password')\n"
   ]
  },
  {
   "cell_type": "markdown",
   "metadata": {},
   "source": [
    "Example Neo4j Queries against this data..."
   ]
  },
  {
   "cell_type": "code",
   "execution_count": 7,
   "metadata": {},
   "outputs": [
    {
     "data": {
      "text/plain": [
       "[<Record n=<Node element_id='4:5c070880-17d8-45a9-a1fa-df478e8a6ff0:0' labels=frozenset({'Node'}) properties={'name': ''}>>,\n",
       " <Record n=<Node element_id='4:5c070880-17d8-45a9-a1fa-df478e8a6ff0:1' labels=frozenset({'Node'}) properties={'name': 'A well-regulated militia being                  2'}>>,\n",
       " <Record n=<Node element_id='4:5c070880-17d8-45a9-a1fa-df478e8a6ff0:2' labels=frozenset({'Node'}) properties={'name': 'from the persons having the highest\\n     numbers, not exceeding three, on the\\n     list of those voted for as President,\\n     the House of Representatives shall\\n     choose immediately, by ballot, the\\n     President'}>>,\n",
       " <Record n=<Node element_id='4:5c070880-17d8-45a9-a1fa-df478e8a6ff0:3' labels=frozenset({'Node'}) properties={'name': 'No State shall lay\\n     any'}>>,\n",
       " <Record n=<Node element_id='4:5c070880-17d8-45a9-a1fa-df478e8a6ff0:4' labels=frozenset({'Node'}) properties={'name': 'or Representative in Congress, or\\n presidential elector, or hold any office,\\n civil or military, under the United\\n States, or any State, who having\\n previously taken an oath as a\\n legislative, executive, or judicial\\n officer of the United States, or of any\\n State, to support the Constitution,\\n afterward engaged in insurrection or\\n rebellion against the United States'}>>,\n",
       " <Record n=<Node element_id='4:5c070880-17d8-45a9-a1fa-df478e8a6ff0:5' labels=frozenset({'Node'}) properties={'name': 'republican form of government to\\n     every State in the Union'}>>,\n",
       " <Record n=<Node element_id='4:5c070880-17d8-45a9-a1fa-df478e8a6ff0:6' labels=frozenset({'Node'}) properties={'name': 'Suffrage in the Senate'}>>,\n",
       " <Record n=<Node element_id='4:5c070880-17d8-45a9-a1fa-df478e8a6ff0:7' labels=frozenset({'Node'}) properties={'name': '---------------------------------------------------------------------------\\n                                   * * * * *                              \\n\\\\12\\\\The first ten amendments of the Constitution of the United States \\n(and two others, one of which failed of ratification and the other \\nwhich later became the 27th amendment) were proposed to the \\nlegislatures of the several States by the First Congress on September \\n25, 1789'}>>,\n",
       " <Record n=<Node element_id='4:5c070880-17d8-45a9-a1fa-df478e8a6ff0:8' labels=frozenset({'Node'}) properties={'name': 'Compensation of the President shall not be          2          1       7\\n increased nor diminished during the\\n period for which he shall be elected'}>>,\n",
       " <Record n=<Node element_id='4:5c070880-17d8-45a9-a1fa-df478e8a6ff0:9' labels=frozenset({'Node'}) properties={'name': 'Article IV'}>>]"
      ]
     },
     "execution_count": 7,
     "metadata": {},
     "output_type": "execute_result"
    }
   ],
   "source": [
    "# Query 1: Get all nodes\n",
    "query = \"MATCH (n) RETURN n LIMIT 10\"\n",
    "nodes = run_query(uri, user, password, query)\n",
    "nodes"
   ]
  },
  {
   "cell_type": "code",
   "execution_count": 8,
   "metadata": {},
   "outputs": [
    {
     "data": {
      "text/plain": [
       "[<Record r=<Relationship element_id='5:5c070880-17d8-45a9-a1fa-df478e8a6ff0:1152921504606846976' nodes=(<Node element_id='4:5c070880-17d8-45a9-a1fa-df478e8a6ff0:0' labels=frozenset() properties={}>, <Node element_id='4:5c070880-17d8-45a9-a1fa-df478e8a6ff0:0' labels=frozenset() properties={}>) type='RELATED_TO' properties={}>>,\n",
       " <Record r=<Relationship element_id='5:5c070880-17d8-45a9-a1fa-df478e8a6ff0:1152921504606846979' nodes=(<Node element_id='4:5c070880-17d8-45a9-a1fa-df478e8a6ff0:3' labels=frozenset() properties={}>, <Node element_id='4:5c070880-17d8-45a9-a1fa-df478e8a6ff0:52' labels=frozenset() properties={}>) type='RELATED_TO' properties={}>>,\n",
       " <Record r=<Relationship element_id='5:5c070880-17d8-45a9-a1fa-df478e8a6ff0:1152921504606846985' nodes=(<Node element_id='4:5c070880-17d8-45a9-a1fa-df478e8a6ff0:9' labels=frozenset() properties={}>, <Node element_id='4:5c070880-17d8-45a9-a1fa-df478e8a6ff0:422' labels=frozenset() properties={}>) type='RELATED_TO' properties={}>>,\n",
       " <Record r=<Relationship element_id='5:5c070880-17d8-45a9-a1fa-df478e8a6ff0:1152921504606846991' nodes=(<Node element_id='4:5c070880-17d8-45a9-a1fa-df478e8a6ff0:15' labels=frozenset() properties={}>, <Node element_id='4:5c070880-17d8-45a9-a1fa-df478e8a6ff0:680' labels=frozenset() properties={}>) type='RELATED_TO' properties={}>>,\n",
       " <Record r=<Relationship element_id='5:5c070880-17d8-45a9-a1fa-df478e8a6ff0:1152921504606846996' nodes=(<Node element_id='4:5c070880-17d8-45a9-a1fa-df478e8a6ff0:20' labels=frozenset() properties={}>, <Node element_id='4:5c070880-17d8-45a9-a1fa-df478e8a6ff0:1060' labels=frozenset() properties={}>) type='RELATED_TO' properties={}>>,\n",
       " <Record r=<Relationship element_id='5:5c070880-17d8-45a9-a1fa-df478e8a6ff0:1152921504606846997' nodes=(<Node element_id='4:5c070880-17d8-45a9-a1fa-df478e8a6ff0:21' labels=frozenset() properties={}>, <Node element_id='4:5c070880-17d8-45a9-a1fa-df478e8a6ff0:1396' labels=frozenset() properties={}>) type='RELATED_TO' properties={}>>,\n",
       " <Record r=<Relationship element_id='5:5c070880-17d8-45a9-a1fa-df478e8a6ff0:1152921504606847004' nodes=(<Node element_id='4:5c070880-17d8-45a9-a1fa-df478e8a6ff0:28' labels=frozenset() properties={}>, <Node element_id='4:5c070880-17d8-45a9-a1fa-df478e8a6ff0:248' labels=frozenset() properties={}>) type='RELATED_TO' properties={}>>,\n",
       " <Record r=<Relationship element_id='5:5c070880-17d8-45a9-a1fa-df478e8a6ff0:1152921504606847011' nodes=(<Node element_id='4:5c070880-17d8-45a9-a1fa-df478e8a6ff0:35' labels=frozenset() properties={}>, <Node element_id='4:5c070880-17d8-45a9-a1fa-df478e8a6ff0:418' labels=frozenset() properties={}>) type='RELATED_TO' properties={}>>,\n",
       " <Record r=<Relationship element_id='5:5c070880-17d8-45a9-a1fa-df478e8a6ff0:1157425104234217507' nodes=(<Node element_id='4:5c070880-17d8-45a9-a1fa-df478e8a6ff0:35' labels=frozenset() properties={}>, <Node element_id='4:5c070880-17d8-45a9-a1fa-df478e8a6ff0:834' labels=frozenset() properties={}>) type='RELATED_TO' properties={}>>,\n",
       " <Record r=<Relationship element_id='5:5c070880-17d8-45a9-a1fa-df478e8a6ff0:1155173304420532259' nodes=(<Node element_id='4:5c070880-17d8-45a9-a1fa-df478e8a6ff0:35' labels=frozenset() properties={}>, <Node element_id='4:5c070880-17d8-45a9-a1fa-df478e8a6ff0:1887' labels=frozenset() properties={}>) type='RELATED_TO' properties={}>>]"
      ]
     },
     "execution_count": 8,
     "metadata": {},
     "output_type": "execute_result"
    }
   ],
   "source": [
    "# Query 2: Get all relationships\n",
    "query = \"MATCH ()-[r]->() RETURN r LIMIT 10\"\n",
    "relationships = run_query(uri, user, password, query)\n",
    "relationships"
   ]
  },
  {
   "cell_type": "code",
   "execution_count": 10,
   "metadata": {},
   "outputs": [
    {
     "name": "stdout",
     "output_type": "stream",
     "text": [
      "Nodes related to 'Article 1': []\n"
     ]
    }
   ],
   "source": [
    "# Query 3: Find nodes related to a specific node\n",
    "specific_node = \"Article 1\"\n",
    "query = f\"MATCH (n)-[r:RELATED_TO]->(m) WHERE n.name = '{specific_node}' RETURN n, r, m\"\n",
    "related_nodes = run_query(uri, user, password, query)\n",
    "print(f\"Nodes related to '{specific_node}':\", related_nodes)"
   ]
  },
  {
   "cell_type": "code",
   "execution_count": 11,
   "metadata": {},
   "outputs": [
    {
     "name": "stdout",
     "output_type": "stream",
     "text": [
      "Number of nodes: [<Record node_count=2368>]\n"
     ]
    }
   ],
   "source": [
    "# Query 4: Count the number of nodes\n",
    "query = \"MATCH (n) RETURN count(n) as node_count\"\n",
    "node_count = run_query(uri, user, password, query)\n",
    "print(\"Number of nodes:\", node_count)"
   ]
  },
  {
   "cell_type": "code",
   "execution_count": 12,
   "metadata": {},
   "outputs": [
    {
     "name": "stdout",
     "output_type": "stream",
     "text": [
      "Number of relationships: [<Record relationship_count=743>]\n"
     ]
    }
   ],
   "source": [
    "# Query 5: Count the number of relationships\n",
    "query = \"MATCH ()-[r]->() RETURN count(r) as relationship_count\"\n",
    "relationship_count = run_query(uri, user, password, query)\n",
    "print(\"Number of relationships:\", relationship_count)"
   ]
  },
  {
   "cell_type": "markdown",
   "metadata": {},
   "source": []
  }
 ],
 "metadata": {
  "kernelspec": {
   "display_name": "Python 3",
   "language": "python",
   "name": "python3"
  },
  "language_info": {
   "codemirror_mode": {
    "name": "ipython",
    "version": 3
   },
   "file_extension": ".py",
   "mimetype": "text/x-python",
   "name": "python",
   "nbconvert_exporter": "python",
   "pygments_lexer": "ipython3",
   "version": "3.11.9"
  }
 },
 "nbformat": 4,
 "nbformat_minor": 2
}
